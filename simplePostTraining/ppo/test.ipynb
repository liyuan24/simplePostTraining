{
 "cells": [
  {
   "cell_type": "code",
   "execution_count": null,
   "id": "713b39c9",
   "metadata": {},
   "outputs": [],
   "source": [
    "import torch"
   ]
  },
  {
   "cell_type": "code",
   "execution_count": null,
   "id": "f883a8d2",
   "metadata": {},
   "outputs": [],
   "source": [
    "action_mask = torch.tensor([[0, 1, 1, 0], [0, 0, 0, 1]])"
   ]
  },
  {
   "cell_type": "code",
   "execution_count": null,
   "id": "79a5e2be",
   "metadata": {},
   "outputs": [],
   "source": [
    "last_token_positions = (\n",
    "    action_mask.size(1)\n",
    "    - 1\n",
    "    - torch.argmax(\n",
    "        action_mask.flip(dims=[1]).float(), dim=1\n",
    "    )\n",
    ")"
   ]
  }
 ],
 "metadata": {
  "kernelspec": {
   "display_name": "openrlhf",
   "language": "python",
   "name": "python3"
  },
  "language_info": {
   "name": "python",
   "version": "3.12.3"
  }
 },
 "nbformat": 4,
 "nbformat_minor": 5
}
